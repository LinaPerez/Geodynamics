{
 "metadata": {
  "name": "Tarea2_Punto2"
 }, 
 "nbformat": 2, 
 "worksheets": [
  {
   "cells": [
    {
     "cell_type": "code", 
     "collapsed": false, 
     "input": [
      "%pylab inline"
     ], 
     "language": "python", 
     "outputs": [
      {
       "output_type": "stream", 
       "stream": "stdout", 
       "text": [
        "", 
        "Welcome to pylab, a matplotlib-based Python environment [backend: module://IPython.zmq.pylab.backend_inline].", 
        "For more information, type 'help(pylab)'."
       ]
      }
     ], 
     "prompt_number": 1
    }, 
    {
     "cell_type": "code", 
     "collapsed": true, 
     "input": [
      "import matplotlib.pyplot as plt", 
      "import numpy as np", 
      "from numpy import pi"
     ], 
     "language": "python", 
     "outputs": [], 
     "prompt_number": 2
    }, 
    {
     "cell_type": "code", 
     "collapsed": false, 
     "input": [
      "n = 2.32", 
      "k = 1 #m^2/yr", 
      "u = 0.1905 #m/yr", 
      "x = np.linspace(0, 3256650, 1) #distance in the 30 latitude from the ridge to the trencs", 
      "sq = sqrt((k*x)/u)", 
      "yl = n*sq"
     ], 
     "language": "python", 
     "outputs": [], 
     "prompt_number": 13
    }, 
    {
     "cell_type": "code", 
     "collapsed": false, 
     "input": [
      "plt.plot(x,yl)", 
      "plt.xlabel('distance(m)')", 
      "plt.ylabel('Thickness of the oceanic lithosphere')", 
      "xlim([0, 3256650])"
     ], 
     "language": "python", 
     "outputs": [
      {
       "output_type": "pyout", 
       "prompt_number": 14, 
       "text": [
        "(0, 3256650)"
       ]
      }, 
      {
       "output_type": "display_data", 
       "png": "[encoded data removed]"
      }
     ], 
     "prompt_number": 14
    }, 
    {
     "cell_type": "code", 
     "collapsed": true, 
     "input": [
      "0"
     ], 
     "language": "python", 
     "outputs": []
    }
   ]
  }
 ]
}